{
 "cells": [
  {
   "cell_type": "markdown",
   "id": "a2be5475-5a56-4045-aec7-2b5f9cad42a8",
   "metadata": {},
   "source": [
    "## Bollywood Movie Analysis\n",
    "Author: Raunak Das"
   ]
  },
  {
   "cell_type": "code",
   "execution_count": null,
   "id": "6921507c-af48-41b2-913b-73558963538d",
   "metadata": {},
   "outputs": [],
   "source": []
  },
  {
   "cell_type": "markdown",
   "id": "bfd53821-9e1b-4236-b186-03dd0ff97f39",
   "metadata": {},
   "source": [
    "#### Meta-Data of the Bollywood Dataset:\n",
    "- SINo - Identifier for the movies.\n",
    "- Release Date - Date on which the movie was released.\n",
    "- MovieName - Name of the movie.\n",
    "- ReleaseTime - Mentions special time of release. LW (Long weekend), FS (Festive Season), HS (Holiday Season), N (Normal).\n",
    "- Genre – Genre of the film such as Romance, Thriller, Action, Comedy, etc\n",
    "- Budget – Movie creation budget\n",
    "- BoxOfficeCollection – Box office collection\n",
    "- YoutubeViews – Number of views of the YouTube trailers\n",
    "- YoutubeLikes – Number of likes of the YouTube trailers\n",
    "- YoutubeDislikes – Number of dislikes of the YouTube trailers\n",
    "\r\n",
    "\n",
    "\r\n",
    "\r\n",
    "\r\n",
    "\r\n",
    "\r\n",
    "ta visualization."
   ]
  },
  {
   "cell_type": "code",
   "execution_count": 33,
   "id": "a970dd36-31b3-4eb3-a7a3-de80513963e0",
   "metadata": {},
   "outputs": [],
   "source": [
    "import numpy as np\n",
    "import pandas as pd\n",
    "from matplotlib import pyplot as plt\n",
    "import seaborn as sns\n",
    "import warnings"
   ]
  },
  {
   "cell_type": "code",
   "execution_count": 2,
   "id": "74042c84-c48e-4342-b82e-ce4930ad82af",
   "metadata": {},
   "outputs": [],
   "source": [
    "df = pd.read_csv('bollywood.csv')"
   ]
  },
  {
   "cell_type": "code",
   "execution_count": 3,
   "id": "7484b16a-46a1-4938-a94e-e08e182749ff",
   "metadata": {},
   "outputs": [
    {
     "data": {
      "text/html": [
       "<div>\n",
       "<style scoped>\n",
       "    .dataframe tbody tr th:only-of-type {\n",
       "        vertical-align: middle;\n",
       "    }\n",
       "\n",
       "    .dataframe tbody tr th {\n",
       "        vertical-align: top;\n",
       "    }\n",
       "\n",
       "    .dataframe thead th {\n",
       "        text-align: right;\n",
       "    }\n",
       "</style>\n",
       "<table border=\"1\" class=\"dataframe\">\n",
       "  <thead>\n",
       "    <tr style=\"text-align: right;\">\n",
       "      <th></th>\n",
       "      <th>SlNo</th>\n",
       "      <th>ReleaseDate</th>\n",
       "      <th>MovieName</th>\n",
       "      <th>ReleaseTime</th>\n",
       "      <th>Genre</th>\n",
       "      <th>Budget</th>\n",
       "      <th>BoxOfficeCollection</th>\n",
       "      <th>YoutubeViews</th>\n",
       "      <th>YoutubeLikes</th>\n",
       "      <th>YoutubeDislikes</th>\n",
       "    </tr>\n",
       "  </thead>\n",
       "  <tbody>\n",
       "    <tr>\n",
       "      <th>0</th>\n",
       "      <td>1</td>\n",
       "      <td>18-Apr-14</td>\n",
       "      <td>2States</td>\n",
       "      <td>LW</td>\n",
       "      <td>Romance</td>\n",
       "      <td>36</td>\n",
       "      <td>104.00</td>\n",
       "      <td>8576361</td>\n",
       "      <td>26622</td>\n",
       "      <td>2527</td>\n",
       "    </tr>\n",
       "    <tr>\n",
       "      <th>1</th>\n",
       "      <td>2</td>\n",
       "      <td>4-Jan-13</td>\n",
       "      <td>TableNo.21</td>\n",
       "      <td>N</td>\n",
       "      <td>Thriller</td>\n",
       "      <td>10</td>\n",
       "      <td>12.00</td>\n",
       "      <td>1087320</td>\n",
       "      <td>1129</td>\n",
       "      <td>137</td>\n",
       "    </tr>\n",
       "    <tr>\n",
       "      <th>2</th>\n",
       "      <td>3</td>\n",
       "      <td>18-Jul-14</td>\n",
       "      <td>AmitSahniKiList</td>\n",
       "      <td>N</td>\n",
       "      <td>Comedy</td>\n",
       "      <td>10</td>\n",
       "      <td>4.00</td>\n",
       "      <td>572336</td>\n",
       "      <td>586</td>\n",
       "      <td>54</td>\n",
       "    </tr>\n",
       "    <tr>\n",
       "      <th>3</th>\n",
       "      <td>4</td>\n",
       "      <td>4-Jan-13</td>\n",
       "      <td>RajdhaniExpress</td>\n",
       "      <td>N</td>\n",
       "      <td>Drama</td>\n",
       "      <td>7</td>\n",
       "      <td>0.35</td>\n",
       "      <td>42626</td>\n",
       "      <td>86</td>\n",
       "      <td>19</td>\n",
       "    </tr>\n",
       "    <tr>\n",
       "      <th>4</th>\n",
       "      <td>5</td>\n",
       "      <td>4-Jul-14</td>\n",
       "      <td>BobbyJasoos</td>\n",
       "      <td>N</td>\n",
       "      <td>Comedy</td>\n",
       "      <td>18</td>\n",
       "      <td>10.80</td>\n",
       "      <td>3113427</td>\n",
       "      <td>4512</td>\n",
       "      <td>1224</td>\n",
       "    </tr>\n",
       "  </tbody>\n",
       "</table>\n",
       "</div>"
      ],
      "text/plain": [
       "   SlNo ReleaseDate        MovieName ReleaseTime     Genre  Budget  \\\n",
       "0     1   18-Apr-14          2States          LW   Romance      36   \n",
       "1     2    4-Jan-13       TableNo.21           N  Thriller      10   \n",
       "2     3   18-Jul-14  AmitSahniKiList           N    Comedy      10   \n",
       "3     4    4-Jan-13  RajdhaniExpress           N     Drama       7   \n",
       "4     5    4-Jul-14      BobbyJasoos           N    Comedy      18   \n",
       "\n",
       "   BoxOfficeCollection  YoutubeViews  YoutubeLikes  YoutubeDislikes  \n",
       "0               104.00       8576361         26622             2527  \n",
       "1                12.00       1087320          1129              137  \n",
       "2                 4.00        572336           586               54  \n",
       "3                 0.35         42626            86               19  \n",
       "4                10.80       3113427          4512             1224  "
      ]
     },
     "execution_count": 3,
     "metadata": {},
     "output_type": "execute_result"
    }
   ],
   "source": [
    "df.head()\n"
   ]
  },
  {
   "cell_type": "markdown",
   "id": "ddaf749f-465d-4965-b9ce-29be46825263",
   "metadata": {},
   "source": [
    "#### How many records are present in the dataset?"
   ]
  },
  {
   "cell_type": "code",
   "execution_count": 4,
   "id": "7adf5245-7a22-4d54-aa54-693fa9000def",
   "metadata": {},
   "outputs": [
    {
     "data": {
      "text/plain": [
       "149"
      ]
     },
     "execution_count": 4,
     "metadata": {},
     "output_type": "execute_result"
    }
   ],
   "source": [
    "df.shape[0]"
   ]
  },
  {
   "cell_type": "markdown",
   "id": "37fb0112-3f15-44a6-83a2-7a8acc9d2ae6",
   "metadata": {},
   "source": [
    "As we can see, there are 149 records in the dataset."
   ]
  },
  {
   "cell_type": "markdown",
   "id": "77d8fbb1-447f-423f-ad17-c0465e2c6aec",
   "metadata": {},
   "source": [
    "#### How many movies were released in each Release Time? Sort number of releases in Release Time in descending order."
   ]
  },
  {
   "cell_type": "code",
   "execution_count": 7,
   "id": "85f4c3ce-73a7-454a-b7c5-3edf12ec38c9",
   "metadata": {},
   "outputs": [
    {
     "data": {
      "text/plain": [
       "ReleaseTime\n",
       "N     99\n",
       "HS    18\n",
       "FS    17\n",
       "LW    15\n",
       "Name: count, dtype: int64"
      ]
     },
     "execution_count": 7,
     "metadata": {},
     "output_type": "execute_result"
    }
   ],
   "source": [
    "df.ReleaseTime.value_counts()"
   ]
  },
  {
   "cell_type": "markdown",
   "id": "3b396692-3398-40b9-9c3b-d406e65ccfcb",
   "metadata": {},
   "source": [
    "As we can see, the highest number of movies were released on a normal time, followed by the holiday season, the festive season, and then the long weekend having the lowest number of releases."
   ]
  },
  {
   "cell_type": "markdown",
   "id": "eb0530e9-e1e6-4f03-9b7d-5aa564783b17",
   "metadata": {},
   "source": [
    "#### Which genre had highest number of releases during the Festive Season?"
   ]
  },
  {
   "cell_type": "code",
   "execution_count": 8,
   "id": "8b0e5f21-100d-45c6-b1dc-393cc1e3ebc7",
   "metadata": {},
   "outputs": [
    {
     "data": {
      "text/plain": [
       "Genre\n",
       "Drama       4\n",
       "Thriller    4\n",
       "Action      3\n",
       "Romance     3\n",
       "Comedy      3\n",
       "Name: count, dtype: int64"
      ]
     },
     "execution_count": 8,
     "metadata": {},
     "output_type": "execute_result"
    }
   ],
   "source": [
    "df.Genre = df.Genre.str.strip()\n",
    "\n",
    "df[df.ReleaseTime=='FS'].Genre.value_counts()"
   ]
  },
  {
   "cell_type": "markdown",
   "id": "7eb2fdcd-695a-46ca-823b-b4fc7893087e",
   "metadata": {},
   "source": [
    "As we can see, the genres Thriller and Drama had the highest number of releases during the Festive Season, having 4 released each.\r\n",
    "\r\n"
   ]
  },
  {
   "cell_type": "markdown",
   "id": "64f81054-2294-4f6f-989e-165eb5212e38",
   "metadata": {},
   "source": [
    "#### How many movies in each genre got released in different release times like long weekend, festive season, etc.\n"
   ]
  },
  {
   "cell_type": "code",
   "execution_count": 9,
   "id": "73d769f8-bdcf-497c-a7af-a36a5a0837b1",
   "metadata": {},
   "outputs": [
    {
     "data": {
      "text/html": [
       "<div>\n",
       "<style scoped>\n",
       "    .dataframe tbody tr th:only-of-type {\n",
       "        vertical-align: middle;\n",
       "    }\n",
       "\n",
       "    .dataframe tbody tr th {\n",
       "        vertical-align: top;\n",
       "    }\n",
       "\n",
       "    .dataframe thead th {\n",
       "        text-align: right;\n",
       "    }\n",
       "</style>\n",
       "<table border=\"1\" class=\"dataframe\">\n",
       "  <thead>\n",
       "    <tr style=\"text-align: right;\">\n",
       "      <th>ReleaseTime</th>\n",
       "      <th>FS</th>\n",
       "      <th>HS</th>\n",
       "      <th>LW</th>\n",
       "      <th>N</th>\n",
       "    </tr>\n",
       "    <tr>\n",
       "      <th>Genre</th>\n",
       "      <th></th>\n",
       "      <th></th>\n",
       "      <th></th>\n",
       "      <th></th>\n",
       "    </tr>\n",
       "  </thead>\n",
       "  <tbody>\n",
       "    <tr>\n",
       "      <th>Action</th>\n",
       "      <td>3</td>\n",
       "      <td>3</td>\n",
       "      <td>3</td>\n",
       "      <td>15</td>\n",
       "    </tr>\n",
       "    <tr>\n",
       "      <th>Comedy</th>\n",
       "      <td>3</td>\n",
       "      <td>5</td>\n",
       "      <td>5</td>\n",
       "      <td>23</td>\n",
       "    </tr>\n",
       "    <tr>\n",
       "      <th>Drama</th>\n",
       "      <td>4</td>\n",
       "      <td>6</td>\n",
       "      <td>1</td>\n",
       "      <td>24</td>\n",
       "    </tr>\n",
       "    <tr>\n",
       "      <th>Romance</th>\n",
       "      <td>3</td>\n",
       "      <td>3</td>\n",
       "      <td>4</td>\n",
       "      <td>15</td>\n",
       "    </tr>\n",
       "    <tr>\n",
       "      <th>Thriller</th>\n",
       "      <td>4</td>\n",
       "      <td>1</td>\n",
       "      <td>2</td>\n",
       "      <td>22</td>\n",
       "    </tr>\n",
       "  </tbody>\n",
       "</table>\n",
       "</div>"
      ],
      "text/plain": [
       "ReleaseTime  FS  HS  LW   N\n",
       "Genre                      \n",
       "Action        3   3   3  15\n",
       "Comedy        3   5   5  23\n",
       "Drama         4   6   1  24\n",
       "Romance       3   3   4  15\n",
       "Thriller      4   1   2  22"
      ]
     },
     "execution_count": 9,
     "metadata": {},
     "output_type": "execute_result"
    }
   ],
   "source": [
    "pd.crosstab(df.Genre, df.ReleaseTime)"
   ]
  },
  {
   "cell_type": "markdown",
   "id": "08c1fae4-2be1-4340-a9fa-c7f82a533c0c",
   "metadata": {},
   "source": [
    "As we can see, there are:\n",
    "\n",
    "- 3 Action, 3 Comedy, 4 Drama, 3 Romance and 4 Thriller movies released during the Festive Season.\n",
    "- 3 Action, 5 Comedy, 6 Drama, 3 Romance and 1 Thriller movies released during the Holiday Season.\n",
    "- 3 Action, 5 Comedy, 1 Drama, 4 Romance and 2 Thriller movies released during the Long Weekend.\n",
    "- 15 Action, 23 Comedy, 24 Drama, 15 Romance and 22 Thriller movies released during the Normal Period.\n"
   ]
  },
  {
   "cell_type": "markdown",
   "id": "ffc6132a-7244-43a8-92a8-d6ea2a6a11e8",
   "metadata": {},
   "source": [
    "#### In which year were ma####um number movie released?\r\n"
   ]
  },
  {
   "cell_type": "code",
   "execution_count": 14,
   "id": "8c8ba409-875e-4f9b-afca-250125a6cdd7",
   "metadata": {},
   "outputs": [
    {
     "data": {
      "text/plain": [
       "Year\n",
       "2014    70\n",
       "2013    67\n",
       "2015    12\n",
       "Name: count, dtype: int64"
      ]
     },
     "execution_count": 14,
     "metadata": {},
     "output_type": "execute_result"
    }
   ],
   "source": [
    "df['ReleaseDate'] = pd.to_datetime(df['ReleaseDate'], format=\"%Y-%m-%d\", errors='coerce')\n",
    "df['Year'] = df['ReleaseDate'].dt.year\n",
    "df['Year'].value_counts()"
   ]
  },
  {
   "cell_type": "markdown",
   "id": "4e12590c-00ac-4a9c-80be-078bba5df232",
   "metadata": {},
   "source": [
    "As we can see, the maximum number of movies were released in the year 2014.\n"
   ]
  },
  {
   "cell_type": "markdown",
   "id": "6224609b-0223-4cee-bc34-9e6491b480e3",
   "metadata": {},
   "source": [
    " #### Which month of the year typically sees most releases of high budgeted movies, that is, movies with budget of 30 crore or more?"
   ]
  },
  {
   "cell_type": "code",
   "execution_count": 15,
   "id": "30ea9076-f135-476d-bf36-743e19329e95",
   "metadata": {},
   "outputs": [
    {
     "data": {
      "text/plain": [
       "ReleaseDate\n",
       "2     8\n",
       "8     7\n",
       "1     6\n",
       "11    6\n",
       "6     5\n",
       "7     5\n",
       "10    4\n",
       "9     4\n",
       "4     3\n",
       "3     3\n",
       "5     3\n",
       "12    2\n",
       "Name: count, dtype: int64"
      ]
     },
     "execution_count": 15,
     "metadata": {},
     "output_type": "execute_result"
    }
   ],
   "source": [
    "df[df.Budget>=30]['ReleaseDate'].dt.month.value_counts()"
   ]
  },
  {
   "cell_type": "markdown",
   "id": "f939e68d-fe82-475b-b9b1-b27318937a9c",
   "metadata": {},
   "source": [
    "As we can see, the month 2 - February typically sees most releases of high budgeted movies.\r",
    "\r\n"
   ]
  },
  {
   "cell_type": "markdown",
   "id": "789bac8e-5771-4e3c-a73b-19cc5982d45a",
   "metadata": {},
   "source": [
    "#### Which are the top 10 flop movies with minimum return on investment (ROI)?"
   ]
  },
  {
   "cell_type": "code",
   "execution_count": 16,
   "id": "4ba5de5b-52e7-4f95-a3a6-501f05cabda1",
   "metadata": {},
   "outputs": [
    {
     "data": {
      "text/plain": [
       "9              Gangoobai\n",
       "15               Bandook\n",
       "53               SonaSpa\n",
       "3        RajdhaniExpress\n",
       "49     KyaDilliKyaLahore\n",
       "121               Satya2\n",
       "67           PuraniJeans\n",
       "103         SamratandCo.\n",
       "30             Heartless\n",
       "102              Kaanchi\n",
       "Name: MovieName, dtype: object"
      ]
     },
     "execution_count": 16,
     "metadata": {},
     "output_type": "execute_result"
    }
   ],
   "source": [
    "df['ROI'] = (df.BoxOfficeCollection - df.Budget)/df.Budget\n",
    "\n",
    "df.sort_values(by='ROI').MovieName[0:10]"
   ]
  },
  {
   "cell_type": "markdown",
   "id": "beac7fdf-7fa8-4917-a063-8e83f92433b4",
   "metadata": {},
   "source": [
    "As we can see, the movies Gangoobai, Bandook, Sona Spa, Rajdhani Express, Kya Dilli Kya Lahore, Satya 2, Purani Jeans, Samrat and Co., Heartless, and Kaanchi have the minimum ROI and are the top 10 flop movies.\n",
    "\r\n"
   ]
  },
  {
   "cell_type": "markdown",
   "id": "5765d904-d994-42c8-99c0-1f8efe86c631",
   "metadata": {},
   "source": [
    " #### Do the movies have higher ROI if they get released on festive seasons or long weekend? Calculate the average ROI for different release times.\n"
   ]
  },
  {
   "cell_type": "code",
   "execution_count": 17,
   "id": "a5e2c41e-5e2c-4bd9-b6a6-bdc0ececd7a7",
   "metadata": {},
   "outputs": [
    {
     "data": {
      "text/plain": [
       "ReleaseTime\n",
       "FS    0.973853\n",
       "HS    0.850867\n",
       "LW    1.127205\n",
       "N     0.657722\n",
       "Name: ROI, dtype: float64"
      ]
     },
     "execution_count": 17,
     "metadata": {},
     "output_type": "execute_result"
    }
   ],
   "source": [
    "df.groupby(by='ReleaseTime').ROI.mean()"
   ]
  },
  {
   "cell_type": "markdown",
   "id": "6e545e8a-faa7-49bd-8fc5-58ba23e4a11a",
   "metadata": {},
   "source": [
    "As we can see, movies which release on the long weekend and festive seasons have higher values of ROI - 1.12 and 0.97 respectively.\n",
    "\n",
    "\r\n"
   ]
  },
  {
   "cell_type": "markdown",
   "id": "e9a172a7-6889-4742-9310-ee909b75f1aa",
   "metadata": {},
   "source": [
    "#### Is there a correlation between box office collection and YouTube likes? Is the correlation positive or negative?\n"
   ]
  },
  {
   "cell_type": "code",
   "execution_count": 18,
   "id": "78574d88-6c50-4e2a-ad13-a2df752ebcb6",
   "metadata": {},
   "outputs": [
    {
     "data": {
      "text/html": [
       "<div>\n",
       "<style scoped>\n",
       "    .dataframe tbody tr th:only-of-type {\n",
       "        vertical-align: middle;\n",
       "    }\n",
       "\n",
       "    .dataframe tbody tr th {\n",
       "        vertical-align: top;\n",
       "    }\n",
       "\n",
       "    .dataframe thead th {\n",
       "        text-align: right;\n",
       "    }\n",
       "</style>\n",
       "<table border=\"1\" class=\"dataframe\">\n",
       "  <thead>\n",
       "    <tr style=\"text-align: right;\">\n",
       "      <th></th>\n",
       "      <th>BoxOfficeCollection</th>\n",
       "      <th>YoutubeLikes</th>\n",
       "    </tr>\n",
       "  </thead>\n",
       "  <tbody>\n",
       "    <tr>\n",
       "      <th>BoxOfficeCollection</th>\n",
       "      <td>1.000000</td>\n",
       "      <td>0.682517</td>\n",
       "    </tr>\n",
       "    <tr>\n",
       "      <th>YoutubeLikes</th>\n",
       "      <td>0.682517</td>\n",
       "      <td>1.000000</td>\n",
       "    </tr>\n",
       "  </tbody>\n",
       "</table>\n",
       "</div>"
      ],
      "text/plain": [
       "                     BoxOfficeCollection  YoutubeLikes\n",
       "BoxOfficeCollection             1.000000      0.682517\n",
       "YoutubeLikes                    0.682517      1.000000"
      ]
     },
     "execution_count": 18,
     "metadata": {},
     "output_type": "execute_result"
    }
   ],
   "source": [
    "corr = df[['BoxOfficeCollection', 'YoutubeLikes']].corr()\n",
    "corr"
   ]
  },
  {
   "cell_type": "markdown",
   "id": "824e5c1b-9097-4b06-9172-3991ca8f04c7",
   "metadata": {},
   "source": [
    "As we can see, the columns BoxOfficeCollection and YoutubeLikes have a moderate degree of positive linear correlation, having correlation coefficient 0.68. This means that if BoxOfficeCollection increases by 100%, the YoutubeLikes also increase by 68%.\n",
    "\n"
   ]
  },
  {
   "cell_type": "markdown",
   "id": "ca40cdf3-8612-4e93-9955-0345a3833610",
   "metadata": {},
   "source": [
    "#### Which genre of movies typically sees more YouTube views? Draw boxplots for each genre of movies to compare.\n"
   ]
  },
  {
   "cell_type": "code",
   "execution_count": 20,
   "id": "b29bc6a1-058c-4d33-8d67-ba5c7d76a29a",
   "metadata": {},
   "outputs": [
    {
     "data": {
      "text/plain": [
       "<Axes: xlabel='Genre', ylabel='YoutubeViews'>"
      ]
     },
     "execution_count": 20,
     "metadata": {},
     "output_type": "execute_result"
    },
    {
     "data": {
      "image/png": "[encoded data removed]",
      "text/plain": [
       "<Figure size 640x480 with 1 Axes>"
      ]
     },
     "metadata": {},
     "output_type": "display_data"
    }
   ],
   "source": [
    "sns.boxplot(x='Genre', y='YoutubeViews', data=df)"
   ]
  },
  {
   "cell_type": "markdown",
   "id": "20345393-d90c-449b-8e8e-ec6a45db3582",
   "metadata": {},
   "source": [
    "As we can see, the Genre Action has the highest YouTube views.\r\n",
    "\r\n"
   ]
  },
  {
   "cell_type": "markdown",
   "id": "dd8adb4a-5e6d-4253-963e-241018fd9a07",
   "metadata": {},
   "source": [
    "#### Which of the variables among Budget, BoxOfficeCollection, YoutubeView, YoutubeLikes, YoutubeDislikes are highly correlated?\n"
   ]
  },
  {
   "cell_type": "code",
   "execution_count": 21,
   "id": "75fd76b1-fb2f-4a10-952e-f31d5ebdbbfc",
   "metadata": {},
   "outputs": [
    {
     "data": {
      "text/plain": [
       "<Axes: >"
      ]
     },
     "execution_count": 21,
     "metadata": {},
     "output_type": "execute_result"
    },
    {
     "data": {
      "image/png": "[encoded data removed]",
      "text/plain": [
       "<Figure size 640x480 with 2 Axes>"
      ]
     },
     "metadata": {},
     "output_type": "display_data"
    }
   ],
   "source": [
    "corr = df[['Budget', 'BoxOfficeCollection', 'YoutubeViews', 'YoutubeLikes', 'YoutubeDislikes']].corr()\n",
    "\n",
    "sns.heatmap(corr, annot=True)"
   ]
  },
  {
   "cell_type": "markdown",
   "id": "f26f8248-0d97-42f3-9a19-5a08e7d36d19",
   "metadata": {},
   "source": [
    "As we can see, the columns YoutubeViews, YoutubeLikes, and YoutubeDislikes are highly correlated with each other.\n"
   ]
  },
  {
   "cell_type": "markdown",
   "id": "010c6b46-4339-44a4-b7b3-e270967a68a6",
   "metadata": {},
   "source": [
    "#### During 2013−2015 period, highlight the genre of movies and their box office collection? Visualize with best fit graph.\n"
   ]
  },
  {
   "cell_type": "code",
   "execution_count": 25,
   "id": "4ab8482a-3139-4b45-9ebe-4fab6d9d6d33",
   "metadata": {},
   "outputs": [
    {
     "data": {
      "text/plain": [
       "<Axes: xlabel='Year', ylabel='BoxOfficeCollection'>"
      ]
     },
     "execution_count": 25,
     "metadata": {},
     "output_type": "execute_result"
    },
    {
     "data": {
      "image/png": "[encoded data removed]",
      "text/plain": [
       "<Figure size 640x480 with 1 Axes>"
      ]
     },
     "metadata": {},
     "output_type": "display_data"
    }
   ],
   "source": [
    "sns.barplot(x='Year', y='BoxOfficeCollection', hue='Genre', data=df, errorbar=None)"
   ]
  },
  {
   "cell_type": "markdown",
   "id": "0e436a11-cbe6-4fe4-a8cf-eddf6e0fb998",
   "metadata": {},
   "source": [
    "#### During 2013−2015, find the number of movies released in every year. Also, visualize with best fit graph."
   ]
  },
  {
   "cell_type": "code",
   "execution_count": 26,
   "id": "b13af71b-43f1-46dc-870b-fc9b02449762",
   "metadata": {},
   "outputs": [
    {
     "data": {
      "text/plain": [
       "Year\n",
       "2014    70\n",
       "2013    67\n",
       "2015    12\n",
       "Name: count, dtype: int64"
      ]
     },
     "execution_count": 26,
     "metadata": {},
     "output_type": "execute_result"
    }
   ],
   "source": [
    "df.Year.value_counts()"
   ]
  },
  {
   "cell_type": "markdown",
   "id": "bdcc01a2-33ff-4815-bc00-926654a5e330",
   "metadata": {},
   "source": [
    "Next, we use the countplot() function from the Seaborn library and pass the value Year to be plotted on the x-axis. The y-axis automatically plots the count of the discrete variable Year.\n"
   ]
  },
  {
   "cell_type": "code",
   "execution_count": 27,
   "id": "4addc9d5-7233-49dc-962a-578ebb82498b",
   "metadata": {},
   "outputs": [
    {
     "data": {
      "text/plain": [
       "<Axes: xlabel='Year', ylabel='count'>"
      ]
     },
     "execution_count": 27,
     "metadata": {},
     "output_type": "execute_result"
    },
    {
     "data": {
      "image/png": "[encoded data removed]",
      "text/plain": [
       "<Figure size 640x480 with 1 Axes>"
      ]
     },
     "metadata": {},
     "output_type": "display_data"
    }
   ],
   "source": [
    "sns.countplot(x='Year', data=df)"
   ]
  },
  {
   "cell_type": "markdown",
   "id": "6b1cbc0d-1cf3-4c0c-aaf0-2c12968ca1d6",
   "metadata": {},
   "source": [
    "As we can see, the year 2014 has the maximum number of movies closely followed by 2013.\r\n"
   ]
  },
  {
   "cell_type": "markdown",
   "id": "e030fad8-855e-48cd-bbfd-bb9635a4e18d",
   "metadata": {},
   "source": [
    "#### Find the distribution of movie budget for every Genre."
   ]
  },
  {
   "cell_type": "code",
   "execution_count": 31,
   "id": "59eb41b8-75f9-4bf4-bb01-f8a5cc394d88",
   "metadata": {},
   "outputs": [],
   "source": [
    "df['Budget'] = df['Budget'].replace([np.inf, -np.inf], np.nan)"
   ]
  },
  {
   "cell_type": "code",
   "execution_count": 35,
   "id": "b4fa6de2-c54b-4526-ad33-00157dae67d3",
   "metadata": {},
   "outputs": [
    {
     "data": {
      "text/plain": [
       "<seaborn.axisgrid.FacetGrid at 0x702e375866e0>"
      ]
     },
     "execution_count": 35,
     "metadata": {},
     "output_type": "execute_result"
    },
    {
     "data": {
      "image/png": "[encoded data removed]",
      "text/plain": [
       "<Figure size 614.625x500 with 1 Axes>"
      ]
     },
     "metadata": {},
     "output_type": "display_data"
    }
   ],
   "source": [
    "warnings.filterwarnings(\"ignore\", category=FutureWarning, module=\"seaborn\")\n",
    "df['Budget'] = df['Budget'].replace([np.inf, -np.inf], np.nan)\n",
    "sns.displot(x='Budget', data=df, kind='kde', hue='Genre')\n"
   ]
  },
  {
   "cell_type": "markdown",
   "id": "741d7fd7-102b-4a18-9685-0bc0f67ba267",
   "metadata": {},
   "source": [
    "#### During 2013−2015, Visualize the number of YouTube likes and YouTube dislikes every year. Also, visualize with best fit graph.\r\n"
   ]
  },
  {
   "cell_type": "code",
   "execution_count": 36,
   "id": "aa65791e-cd02-4b75-ac96-4bfad5a61366",
   "metadata": {},
   "outputs": [
    {
     "data": {
      "text/plain": [
       "Year\n",
       "2013    324180\n",
       "2014    710142\n",
       "2015    139431\n",
       "Name: YoutubeLikes, dtype: int64"
      ]
     },
     "execution_count": 36,
     "metadata": {},
     "output_type": "execute_result"
    }
   ],
   "source": [
    "df.groupby(by='Year').YoutubeLikes.sum()"
   ]
  },
  {
   "cell_type": "markdown",
   "id": "f34e1d54-807e-4c0d-926d-56382a3da86d",
   "metadata": {},
   "source": [
    "Then, we find the sum of dislikes year-wise by grouping the dataframe by the Year column and summing over the YoutubeDislikes column using the sum() function from the Pandas library.\r\n",
    "\r\n"
   ]
  },
  {
   "cell_type": "code",
   "execution_count": 37,
   "id": "1fdf6615-56e1-4bcd-b088-65dacf5a4b7c",
   "metadata": {},
   "outputs": [
    {
     "data": {
      "text/plain": [
       "Year\n",
       "2013     58156\n",
       "2014    104682\n",
       "2015     17127\n",
       "Name: YoutubeDislikes, dtype: int64"
      ]
     },
     "execution_count": 37,
     "metadata": {},
     "output_type": "execute_result"
    }
   ],
   "source": [
    "df.groupby(by='Year').YoutubeDislikes.sum()"
   ]
  },
  {
   "cell_type": "markdown",
   "id": "5f95d327-1ba1-4575-b193-b3bca04ca810",
   "metadata": {},
   "source": [
    "Next, we convert the above results into a data frame using the DataFrame() function from the Pandas libray and plot it using the plot.bar() from the Pandas library."
   ]
  },
  {
   "cell_type": "code",
   "execution_count": 38,
   "id": "ec4ce38d-7d50-440a-bb2e-b72319167d29",
   "metadata": {},
   "outputs": [
    {
     "data": {
      "text/plain": [
       "<Axes: >"
      ]
     },
     "execution_count": 38,
     "metadata": {},
     "output_type": "execute_result"
    },
    {
     "data": {
      "image/png": "[encoded data removed]",
      "text/plain": [
       "<Figure size 640x480 with 1 Axes>"
      ]
     },
     "metadata": {},
     "output_type": "display_data"
    }
   ],
   "source": [
    "likes = [324180, 710142, 139431]\n",
    "dislikes = [58156, 104682, 17127]\n",
    "year = ['2013', '2014', '2015']\n",
    "\n",
    "compare = pd.DataFrame({'likes':likes, 'dislikes':dislikes}, index=year)\n",
    "\n",
    "compare.plot.bar()"
   ]
  },
  {
   "cell_type": "code",
   "execution_count": null,
   "id": "d409f657-1d00-458a-b91b-a6861fcdeb95",
   "metadata": {},
   "outputs": [],
   "source": []
  }
 ],
 "metadata": {
  "kernelspec": {
   "display_name": "anaconda-ai-2024.04-py310",
   "language": "python",
   "name": "conda-env-anaconda-ai-2024.04-py310-py"
  },
  "language_info": {
   "codemirror_mode": {
    "name": "ipython",
    "version": 3
   },
   "file_extension": ".py",
   "mimetype": "text/x-python",
   "name": "python",
   "nbconvert_exporter": "python",
   "pygments_lexer": "ipython3",
   "version": "3.10.13"
  }
 },
 "nbformat": 4,
 "nbformat_minor": 5
}
